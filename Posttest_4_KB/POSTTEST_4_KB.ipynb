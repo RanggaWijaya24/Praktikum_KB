{
 "cells": [
  {
   "cell_type": "markdown",
   "id": "7f5eee6d-1232-4d7f-bb6c-680bf9ef592a",
   "metadata": {},
   "source": [
    "# POSTTEST 4 KB\n",
    "# NAMA : M. RANGGA YAQUB WIJAYA\n",
    "# NIM : 2109106104"
   ]
  },
  {
   "cell_type": "code",
   "execution_count": 8,
   "id": "14f5421f-afba-44d1-ab42-6c95207aa963",
   "metadata": {},
   "outputs": [],
   "source": [
    "from sklearn.model_selection import train_test_split\n",
    "from sklearn.datasets import load_iris\n",
    "import pandas as pd\n",
    "from sklearn.preprocessing import StandardScaler\n",
    "from sklearn.preprocessing import MinMaxScaler\n",
    "import numpy as np\n",
    "from sklearn.impute import SimpleImputer"
   ]
  },
  {
   "cell_type": "code",
   "execution_count": 10,
   "id": "39443069-d820-4470-b402-cb21213d155b",
   "metadata": {},
   "outputs": [
    {
     "data": {
      "text/html": [
       "<div>\n",
       "<style scoped>\n",
       "    .dataframe tbody tr th:only-of-type {\n",
       "        vertical-align: middle;\n",
       "    }\n",
       "\n",
       "    .dataframe tbody tr th {\n",
       "        vertical-align: top;\n",
       "    }\n",
       "\n",
       "    .dataframe thead th {\n",
       "        text-align: right;\n",
       "    }\n",
       "</style>\n",
       "<table border=\"1\" class=\"dataframe\">\n",
       "  <thead>\n",
       "    <tr style=\"text-align: right;\">\n",
       "      <th></th>\n",
       "      <th>Date</th>\n",
       "      <th>State</th>\n",
       "      <th>TotalSamples</th>\n",
       "      <th>Negative</th>\n",
       "      <th>Positive</th>\n",
       "    </tr>\n",
       "  </thead>\n",
       "  <tbody>\n",
       "    <tr>\n",
       "      <th>0</th>\n",
       "      <td>2020-04-17</td>\n",
       "      <td>Andaman and Nicobar Islands</td>\n",
       "      <td>1403.0</td>\n",
       "      <td>1210</td>\n",
       "      <td>12.0</td>\n",
       "    </tr>\n",
       "    <tr>\n",
       "      <th>1</th>\n",
       "      <td>2020-04-24</td>\n",
       "      <td>Andaman and Nicobar Islands</td>\n",
       "      <td>2679.0</td>\n",
       "      <td>NaN</td>\n",
       "      <td>27.0</td>\n",
       "    </tr>\n",
       "    <tr>\n",
       "      <th>2</th>\n",
       "      <td>2020-04-27</td>\n",
       "      <td>Andaman and Nicobar Islands</td>\n",
       "      <td>2848.0</td>\n",
       "      <td>NaN</td>\n",
       "      <td>33.0</td>\n",
       "    </tr>\n",
       "    <tr>\n",
       "      <th>3</th>\n",
       "      <td>2020-05-01</td>\n",
       "      <td>Andaman and Nicobar Islands</td>\n",
       "      <td>3754.0</td>\n",
       "      <td>NaN</td>\n",
       "      <td>33.0</td>\n",
       "    </tr>\n",
       "    <tr>\n",
       "      <th>4</th>\n",
       "      <td>2020-05-16</td>\n",
       "      <td>Andaman and Nicobar Islands</td>\n",
       "      <td>6677.0</td>\n",
       "      <td>NaN</td>\n",
       "      <td>33.0</td>\n",
       "    </tr>\n",
       "    <tr>\n",
       "      <th>...</th>\n",
       "      <td>...</td>\n",
       "      <td>...</td>\n",
       "      <td>...</td>\n",
       "      <td>...</td>\n",
       "      <td>...</td>\n",
       "    </tr>\n",
       "    <tr>\n",
       "      <th>16331</th>\n",
       "      <td>2021-08-06</td>\n",
       "      <td>West Bengal</td>\n",
       "      <td>15999961.0</td>\n",
       "      <td>NaN</td>\n",
       "      <td>NaN</td>\n",
       "    </tr>\n",
       "    <tr>\n",
       "      <th>16332</th>\n",
       "      <td>2021-08-07</td>\n",
       "      <td>West Bengal</td>\n",
       "      <td>16045662.0</td>\n",
       "      <td>NaN</td>\n",
       "      <td>NaN</td>\n",
       "    </tr>\n",
       "    <tr>\n",
       "      <th>16333</th>\n",
       "      <td>2021-08-08</td>\n",
       "      <td>West Bengal</td>\n",
       "      <td>16092192.0</td>\n",
       "      <td>NaN</td>\n",
       "      <td>NaN</td>\n",
       "    </tr>\n",
       "    <tr>\n",
       "      <th>16334</th>\n",
       "      <td>2021-08-09</td>\n",
       "      <td>West Bengal</td>\n",
       "      <td>16122345.0</td>\n",
       "      <td>NaN</td>\n",
       "      <td>NaN</td>\n",
       "    </tr>\n",
       "    <tr>\n",
       "      <th>16335</th>\n",
       "      <td>2021-08-10</td>\n",
       "      <td>West Bengal</td>\n",
       "      <td>16162814.0</td>\n",
       "      <td>NaN</td>\n",
       "      <td>NaN</td>\n",
       "    </tr>\n",
       "  </tbody>\n",
       "</table>\n",
       "<p>16336 rows × 5 columns</p>\n",
       "</div>"
      ],
      "text/plain": [
       "             Date                        State  TotalSamples Negative  \\\n",
       "0      2020-04-17  Andaman and Nicobar Islands        1403.0     1210   \n",
       "1      2020-04-24  Andaman and Nicobar Islands        2679.0      NaN   \n",
       "2      2020-04-27  Andaman and Nicobar Islands        2848.0      NaN   \n",
       "3      2020-05-01  Andaman and Nicobar Islands        3754.0      NaN   \n",
       "4      2020-05-16  Andaman and Nicobar Islands        6677.0      NaN   \n",
       "...           ...                          ...           ...      ...   \n",
       "16331  2021-08-06                  West Bengal    15999961.0      NaN   \n",
       "16332  2021-08-07                  West Bengal    16045662.0      NaN   \n",
       "16333  2021-08-08                  West Bengal    16092192.0      NaN   \n",
       "16334  2021-08-09                  West Bengal    16122345.0      NaN   \n",
       "16335  2021-08-10                  West Bengal    16162814.0      NaN   \n",
       "\n",
       "       Positive  \n",
       "0          12.0  \n",
       "1          27.0  \n",
       "2          33.0  \n",
       "3          33.0  \n",
       "4          33.0  \n",
       "...         ...  \n",
       "16331       NaN  \n",
       "16332       NaN  \n",
       "16333       NaN  \n",
       "16334       NaN  \n",
       "16335       NaN  \n",
       "\n",
       "[16336 rows x 5 columns]"
      ]
     },
     "execution_count": 10,
     "metadata": {},
     "output_type": "execute_result"
    }
   ],
   "source": [
    "dataset = pd.read_csv(\"StatewiseTestingDetails.csv\")\n",
    "dataset"
   ]
  },
  {
   "cell_type": "markdown",
   "id": "32c962a1-79df-4b99-b1a9-a47f01a4fbb1",
   "metadata": {},
   "source": [
    "### MemBagi dataset menjadi training set dan testing set dengan proporsi 70:30 di kolom State"
   ]
  },
  {
   "cell_type": "code",
   "execution_count": 12,
   "id": "a52cd5eb-15ce-4de6-8b86-d168ea07cd82",
   "metadata": {},
   "outputs": [],
   "source": [
    "x = df.drop('State', axis=1)\n",
    "y = df['State']\n",
    "\n",
    "x_train, x_test, y_train, y_test = train_test_split(x, y, test_size=0.3)"
   ]
  },
  {
   "cell_type": "markdown",
   "id": "c713ce72-1e42-42a2-9631-b5921843b24c",
   "metadata": {},
   "source": [
    "### Melaakukan normalisasi data pada attribute total sample menggunakan Min Max scaler"
   ]
  },
  {
   "cell_type": "code",
   "execution_count": 14,
   "id": "e1b6a4c3-989e-486e-bb36-2128f376e250",
   "metadata": {},
   "outputs": [],
   "source": [
    "dataset1 = dataset.copy()\n",
    "scaler = MinMaxScaler()\n",
    "scaledData = scaler.fit_transform(dataset1[['TotalSamples']])\n",
    "dataset1['TotalSamples'] = scaledData"
   ]
  },
  {
   "cell_type": "markdown",
   "id": "ce99a03b-1f1f-458a-839c-ab4c9c1d37bd",
   "metadata": {},
   "source": [
    "### Menampilkan data sebelum di normlisasi, dan setelah di normalisasi"
   ]
  },
  {
   "cell_type": "code",
   "execution_count": 18,
   "id": "2ba766e5-bddd-415f-ae4b-eef3aa274782",
   "metadata": {},
   "outputs": [
    {
     "name": "stdout",
     "output_type": "stream",
     "text": [
      "sebelum dinormalisasi: \n",
      "count    1.633600e+04\n",
      "mean     5.376466e+06\n",
      "std      8.780338e+06\n",
      "min      5.800000e+01\n",
      "25%      1.729098e+05\n",
      "50%      9.307580e+05\n",
      "75%      7.284795e+06\n",
      "max      6.789786e+07\n",
      "Name: TotalSamples, dtype: float64\n",
      "\n",
      "\n",
      "setelah dinormalisasi: \n",
      "count    16336.000000\n",
      "mean         0.079184\n",
      "std          0.129317\n",
      "min          0.000000\n",
      "25%          0.002546\n",
      "50%          0.013707\n",
      "75%          0.107290\n",
      "max          1.000000\n",
      "Name: TotalSamples, dtype: float64\n"
     ]
    }
   ],
   "source": [
    "print(\"sebelum dinormalisasi: \")\n",
    "print(dataset['TotalSamples'].describe())\n",
    "print('\\n')\n",
    "print(\"setelah dinormalisasi: \")\n",
    "print(dataset1['TotalSamples'].describe())"
   ]
  },
  {
   "cell_type": "markdown",
   "id": "43227a0a-f56e-49e6-bf94-2d11ddfa6b9a",
   "metadata": {},
   "source": [
    "### melakukan standarisasi pada dataset"
   ]
  },
  {
   "cell_type": "code",
   "execution_count": 23,
   "id": "c6d32cf0-d6f0-4fca-9d81-ff438f0b53d8",
   "metadata": {},
   "outputs": [],
   "source": [
    "dataset2 = dataset.copy()\n",
    "scaler = StandardScaler()\n",
    "scaledData = scaler.fit_transform(dataset1[['TotalSamples']])\n",
    "dataset2['TotalSamples'] = scaledData"
   ]
  },
  {
   "cell_type": "markdown",
   "id": "904da85e-8972-4a51-9230-1ad28105ed35",
   "metadata": {},
   "source": [
    "### Menampilkan hasil standar deviasi dari kolom total Sample sebelum dan sesudah di standarisasi"
   ]
  },
  {
   "cell_type": "code",
   "execution_count": 24,
   "id": "504fbd46-1ceb-4ac2-aeb2-c67f5df4f4ef",
   "metadata": {},
   "outputs": [
    {
     "name": "stdout",
     "output_type": "stream",
     "text": [
      "sebelum di standardisasi: \n",
      "Standar Deviasi >>  8780069.018440211\n",
      "\n",
      "\n",
      "setelah di standardisasi: \n",
      "Standar Deviasi >>  1.0\n"
     ]
    }
   ],
   "source": [
    "print(\"sebelum di standardisasi: \")\n",
    "print(\"Standar Deviasi >> \", np.std(dataset['TotalSamples']))\n",
    "print('\\n')\n",
    "print(\"setelah di standardisasi: \")\n",
    "print(\"Standar Deviasi >> \", np.std(dataset2['TotalSamples']))"
   ]
  },
  {
   "cell_type": "code",
   "execution_count": 26,
   "id": "af2261ea-c74d-4017-beca-185c341d31ef",
   "metadata": {},
   "outputs": [
    {
     "name": "stdout",
     "output_type": "stream",
     "text": [
      "<class 'pandas.core.frame.DataFrame'>\n",
      "RangeIndex: 16336 entries, 0 to 16335\n",
      "Data columns (total 5 columns):\n",
      " #   Column        Non-Null Count  Dtype  \n",
      "---  ------        --------------  -----  \n",
      " 0   Date          16336 non-null  object \n",
      " 1   State         16336 non-null  object \n",
      " 2   TotalSamples  16336 non-null  float64\n",
      " 3   Negative      6969 non-null   object \n",
      " 4   Positive      5662 non-null   float64\n",
      "dtypes: float64(2), object(3)\n",
      "memory usage: 638.2+ KB\n"
     ]
    }
   ],
   "source": [
    "dataset3 = dataset.copy()\n",
    "dataset3.info()"
   ]
  },
  {
   "cell_type": "markdown",
   "id": "2978b316-0782-4b58-bfe7-2e237ccb54f0",
   "metadata": {},
   "source": [
    "### mengubah kolom Positive dari float64  menjadi int64"
   ]
  },
  {
   "cell_type": "code",
   "execution_count": 30,
   "id": "7e64fede-f0c3-4889-811e-a7e0a349819d",
   "metadata": {},
   "outputs": [],
   "source": [
    "dataset3['Positive'] = dataset3['Positive'].astype('int64')"
   ]
  },
  {
   "cell_type": "markdown",
   "id": "a95deab8-6908-4906-995a-5d5378ba8087",
   "metadata": {},
   "source": [
    "### membuat nilai Null pada kolom State dan kolom positive"
   ]
  },
  {
   "cell_type": "code",
   "execution_count": 38,
   "id": "8bdeb348-2808-41af-966d-2bbb54d875a8",
   "metadata": {},
   "outputs": [
    {
     "name": "stdout",
     "output_type": "stream",
     "text": [
      "Jumlah nilai null pada kolom state    >>  6336\n",
      "Jumlah nilai null pada kolom Positive >>  6336\n"
     ]
    }
   ],
   "source": [
    "dataset3.loc[10000:, 'State'] = np.nan \n",
    "dataset3.loc[10000:, 'Positive'] = np.nan \n",
    "print(\"Jumlah nilai null pada kolom state    >> \", dataset3['State'].isna().sum())\n",
    "print(\"Jumlah nilai null pada kolom Positive >> \", dataset3['Positive'].isna().sum())"
   ]
  },
  {
   "cell_type": "markdown",
   "id": "54a1ca78-b95f-467e-9ac4-e6898f8f6a25",
   "metadata": {},
   "source": [
    "### Mengatasi Nilai Null sesuai ketentuan Posttest :\n",
    "### 1. Kolom State         (Tipe => Object/String) => Metode Modus\n",
    "### 2. Kolom Positive            (Tipe => integer) => Metode Median\n",
    "### 3. Kolom Total Sample          (Tipe => float) => Metode Mean\n",
    "### 4. Kolom Negative      (Tipe => Object/String) => Metode Modus"
   ]
  },
  {
   "cell_type": "code",
   "execution_count": 43,
   "id": "35da2a46-fae6-4684-9a79-968885fe11d2",
   "metadata": {},
   "outputs": [],
   "source": [
    "dataset3['Positive'].fillna(dataset3['Positive'].median(), inplace=True) \n",
    "dataset3['TotalSamples'].fillna(dataset3['TotalSamples'].mean(), inplace=True) \n",
    "dataset3['State'].fillna(dataset3['State'].mode()[0], inplace=True) \n",
    "dataset3['Negative'].fillna(dataset3['Negative'].mode()[0], inplace=True) "
   ]
  },
  {
   "cell_type": "markdown",
   "id": "313eb9c9-fcd2-40ab-8396-87053d26c344",
   "metadata": {},
   "source": [
    "### Menampilkan jumlah nilai nulll pada semua kolom dataset setelah nilai null diatasi"
   ]
  },
  {
   "cell_type": "code",
   "execution_count": 44,
   "id": "486836b5-82db-4fbc-9d5c-0adc013c6ba1",
   "metadata": {},
   "outputs": [
    {
     "data": {
      "text/plain": [
       "Date            0\n",
       "State           0\n",
       "TotalSamples    0\n",
       "Negative        0\n",
       "Positive        0\n",
       "dtype: int64"
      ]
     },
     "execution_count": 44,
     "metadata": {},
     "output_type": "execute_result"
    }
   ],
   "source": [
    "dataset3.isna().sum()"
   ]
  },
  {
   "cell_type": "markdown",
   "id": "ff854bf8-c1a2-4bc6-91a6-a210cf2e10a6",
   "metadata": {},
   "source": [
    "### menampilkan jumlah nlai duplikasi di dalam dataset"
   ]
  },
  {
   "cell_type": "code",
   "execution_count": 46,
   "id": "d3267677-99af-4978-9ac2-20b2cab45b50",
   "metadata": {},
   "outputs": [
    {
     "data": {
      "text/plain": [
       "1"
      ]
     },
     "execution_count": 46,
     "metadata": {},
     "output_type": "execute_result"
    }
   ],
   "source": [
    "dataset3.duplicated().sum()"
   ]
  },
  {
   "cell_type": "markdown",
   "id": "e804a4b2-00ff-46ae-bb18-daf43cba4ae2",
   "metadata": {},
   "source": [
    "### Mengatasi nilai duplikasi pada dataset, dan menampilkan jumlah nilia dupliakasi setelah nilai duplikasi diatasi"
   ]
  },
  {
   "cell_type": "code",
   "execution_count": 47,
   "id": "0c072de5-52a8-488e-b30a-869f08ca183c",
   "metadata": {},
   "outputs": [
    {
     "data": {
      "text/plain": [
       "0"
      ]
     },
     "execution_count": 47,
     "metadata": {},
     "output_type": "execute_result"
    }
   ],
   "source": [
    "dataset3.drop_duplicates(inplace=True)\n",
    "dataset3.duplicated().sum()"
   ]
  },
  {
   "cell_type": "markdown",
   "id": "1a8bf76d-4256-46ef-92f3-2ef52a60bc91",
   "metadata": {},
   "source": [
    "### mengubah kolom Positive dari float64  menjadi int64"
   ]
  },
  {
   "cell_type": "code",
   "execution_count": 49,
   "id": "965055b0-04c2-4f40-b38f-114032ea1698",
   "metadata": {},
   "outputs": [],
   "source": [
    "dataset3['TotalSamples'] = dataset3['TotalSamples'].astype('int64')"
   ]
  },
  {
   "cell_type": "markdown",
   "id": "0267255b-5d43-4c62-89f2-43d62b17fc42",
   "metadata": {},
   "source": [
    "### Lakukan one hot encoding pada dataset menggunakan kolom State"
   ]
  },
  {
   "cell_type": "code",
   "execution_count": 57,
   "id": "4370b1c9-4b74-48c9-a4c8-8f5fd47d7b3e",
   "metadata": {},
   "outputs": [],
   "source": [
    "dataset4 = dataset.copy()\n",
    "\n",
    "encoding = pd.get_dummies(dataset[['State']])\n",
    "dataset4 = dataset.join(encoding.astype('int64'))\n",
    "\n",
    "dataset4.drop('State', axis=1, inplace=True)"
   ]
  },
  {
   "cell_type": "code",
   "execution_count": 58,
   "id": "4e63bc1a-68aa-4d37-9ec5-e2cee55d29f9",
   "metadata": {},
   "outputs": [
    {
     "data": {
      "text/html": [
       "<div>\n",
       "<style scoped>\n",
       "    .dataframe tbody tr th:only-of-type {\n",
       "        vertical-align: middle;\n",
       "    }\n",
       "\n",
       "    .dataframe tbody tr th {\n",
       "        vertical-align: top;\n",
       "    }\n",
       "\n",
       "    .dataframe thead th {\n",
       "        text-align: right;\n",
       "    }\n",
       "</style>\n",
       "<table border=\"1\" class=\"dataframe\">\n",
       "  <thead>\n",
       "    <tr style=\"text-align: right;\">\n",
       "      <th></th>\n",
       "      <th>Date</th>\n",
       "      <th>TotalSamples</th>\n",
       "      <th>Negative</th>\n",
       "      <th>Positive</th>\n",
       "      <th>State_Andaman and Nicobar Islands</th>\n",
       "      <th>State_Andhra Pradesh</th>\n",
       "      <th>State_Arunachal Pradesh</th>\n",
       "      <th>State_Assam</th>\n",
       "      <th>State_Bihar</th>\n",
       "      <th>State_Chandigarh</th>\n",
       "      <th>...</th>\n",
       "      <th>State_Puducherry</th>\n",
       "      <th>State_Punjab</th>\n",
       "      <th>State_Rajasthan</th>\n",
       "      <th>State_Sikkim</th>\n",
       "      <th>State_Tamil Nadu</th>\n",
       "      <th>State_Telangana</th>\n",
       "      <th>State_Tripura</th>\n",
       "      <th>State_Uttar Pradesh</th>\n",
       "      <th>State_Uttarakhand</th>\n",
       "      <th>State_West Bengal</th>\n",
       "    </tr>\n",
       "  </thead>\n",
       "  <tbody>\n",
       "    <tr>\n",
       "      <th>0</th>\n",
       "      <td>2020-04-17</td>\n",
       "      <td>1403.0</td>\n",
       "      <td>1210</td>\n",
       "      <td>12.0</td>\n",
       "      <td>1</td>\n",
       "      <td>0</td>\n",
       "      <td>0</td>\n",
       "      <td>0</td>\n",
       "      <td>0</td>\n",
       "      <td>0</td>\n",
       "      <td>...</td>\n",
       "      <td>0</td>\n",
       "      <td>0</td>\n",
       "      <td>0</td>\n",
       "      <td>0</td>\n",
       "      <td>0</td>\n",
       "      <td>0</td>\n",
       "      <td>0</td>\n",
       "      <td>0</td>\n",
       "      <td>0</td>\n",
       "      <td>0</td>\n",
       "    </tr>\n",
       "    <tr>\n",
       "      <th>1</th>\n",
       "      <td>2020-04-24</td>\n",
       "      <td>2679.0</td>\n",
       "      <td>NaN</td>\n",
       "      <td>27.0</td>\n",
       "      <td>1</td>\n",
       "      <td>0</td>\n",
       "      <td>0</td>\n",
       "      <td>0</td>\n",
       "      <td>0</td>\n",
       "      <td>0</td>\n",
       "      <td>...</td>\n",
       "      <td>0</td>\n",
       "      <td>0</td>\n",
       "      <td>0</td>\n",
       "      <td>0</td>\n",
       "      <td>0</td>\n",
       "      <td>0</td>\n",
       "      <td>0</td>\n",
       "      <td>0</td>\n",
       "      <td>0</td>\n",
       "      <td>0</td>\n",
       "    </tr>\n",
       "    <tr>\n",
       "      <th>2</th>\n",
       "      <td>2020-04-27</td>\n",
       "      <td>2848.0</td>\n",
       "      <td>NaN</td>\n",
       "      <td>33.0</td>\n",
       "      <td>1</td>\n",
       "      <td>0</td>\n",
       "      <td>0</td>\n",
       "      <td>0</td>\n",
       "      <td>0</td>\n",
       "      <td>0</td>\n",
       "      <td>...</td>\n",
       "      <td>0</td>\n",
       "      <td>0</td>\n",
       "      <td>0</td>\n",
       "      <td>0</td>\n",
       "      <td>0</td>\n",
       "      <td>0</td>\n",
       "      <td>0</td>\n",
       "      <td>0</td>\n",
       "      <td>0</td>\n",
       "      <td>0</td>\n",
       "    </tr>\n",
       "    <tr>\n",
       "      <th>3</th>\n",
       "      <td>2020-05-01</td>\n",
       "      <td>3754.0</td>\n",
       "      <td>NaN</td>\n",
       "      <td>33.0</td>\n",
       "      <td>1</td>\n",
       "      <td>0</td>\n",
       "      <td>0</td>\n",
       "      <td>0</td>\n",
       "      <td>0</td>\n",
       "      <td>0</td>\n",
       "      <td>...</td>\n",
       "      <td>0</td>\n",
       "      <td>0</td>\n",
       "      <td>0</td>\n",
       "      <td>0</td>\n",
       "      <td>0</td>\n",
       "      <td>0</td>\n",
       "      <td>0</td>\n",
       "      <td>0</td>\n",
       "      <td>0</td>\n",
       "      <td>0</td>\n",
       "    </tr>\n",
       "    <tr>\n",
       "      <th>4</th>\n",
       "      <td>2020-05-16</td>\n",
       "      <td>6677.0</td>\n",
       "      <td>NaN</td>\n",
       "      <td>33.0</td>\n",
       "      <td>1</td>\n",
       "      <td>0</td>\n",
       "      <td>0</td>\n",
       "      <td>0</td>\n",
       "      <td>0</td>\n",
       "      <td>0</td>\n",
       "      <td>...</td>\n",
       "      <td>0</td>\n",
       "      <td>0</td>\n",
       "      <td>0</td>\n",
       "      <td>0</td>\n",
       "      <td>0</td>\n",
       "      <td>0</td>\n",
       "      <td>0</td>\n",
       "      <td>0</td>\n",
       "      <td>0</td>\n",
       "      <td>0</td>\n",
       "    </tr>\n",
       "  </tbody>\n",
       "</table>\n",
       "<p>5 rows × 40 columns</p>\n",
       "</div>"
      ],
      "text/plain": [
       "         Date  TotalSamples Negative  Positive  \\\n",
       "0  2020-04-17        1403.0     1210      12.0   \n",
       "1  2020-04-24        2679.0      NaN      27.0   \n",
       "2  2020-04-27        2848.0      NaN      33.0   \n",
       "3  2020-05-01        3754.0      NaN      33.0   \n",
       "4  2020-05-16        6677.0      NaN      33.0   \n",
       "\n",
       "   State_Andaman and Nicobar Islands  State_Andhra Pradesh  \\\n",
       "0                                  1                     0   \n",
       "1                                  1                     0   \n",
       "2                                  1                     0   \n",
       "3                                  1                     0   \n",
       "4                                  1                     0   \n",
       "\n",
       "   State_Arunachal Pradesh  State_Assam  State_Bihar  State_Chandigarh  ...  \\\n",
       "0                        0            0            0                 0  ...   \n",
       "1                        0            0            0                 0  ...   \n",
       "2                        0            0            0                 0  ...   \n",
       "3                        0            0            0                 0  ...   \n",
       "4                        0            0            0                 0  ...   \n",
       "\n",
       "   State_Puducherry  State_Punjab  State_Rajasthan  State_Sikkim  \\\n",
       "0                 0             0                0             0   \n",
       "1                 0             0                0             0   \n",
       "2                 0             0                0             0   \n",
       "3                 0             0                0             0   \n",
       "4                 0             0                0             0   \n",
       "\n",
       "   State_Tamil Nadu  State_Telangana  State_Tripura  State_Uttar Pradesh  \\\n",
       "0                 0                0              0                    0   \n",
       "1                 0                0              0                    0   \n",
       "2                 0                0              0                    0   \n",
       "3                 0                0              0                    0   \n",
       "4                 0                0              0                    0   \n",
       "\n",
       "   State_Uttarakhand  State_West Bengal  \n",
       "0                  0                  0  \n",
       "1                  0                  0  \n",
       "2                  0                  0  \n",
       "3                  0                  0  \n",
       "4                  0                  0  \n",
       "\n",
       "[5 rows x 40 columns]"
      ]
     },
     "execution_count": 58,
     "metadata": {},
     "output_type": "execute_result"
    }
   ],
   "source": [
    "dataset4.head()"
   ]
  }
 ],
 "metadata": {
  "kernelspec": {
   "display_name": "Rangga_104",
   "language": "python",
   "name": "rangga_104"
  },
  "language_info": {
   "codemirror_mode": {
    "name": "ipython",
    "version": 3
   },
   "file_extension": ".py",
   "mimetype": "text/x-python",
   "name": "python",
   "nbconvert_exporter": "python",
   "pygments_lexer": "ipython3",
   "version": "3.10.7"
  }
 },
 "nbformat": 4,
 "nbformat_minor": 5
}
